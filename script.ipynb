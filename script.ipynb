{
  "nbformat": 4,
  "nbformat_minor": 0,
  "metadata": {
    "colab": {
      "name": "script.ipynb",
      "provenance": [],
      "collapsed_sections": [],
      "toc_visible": true
    },
    "kernelspec": {
      "name": "python3",
      "display_name": "Python 3"
    }
  },
  "cells": [
    {
      "cell_type": "code",
      "metadata": {
        "id": "edv8003-7kwB",
        "colab_type": "code",
        "colab": {}
      },
      "source": [
        "# Importing necessary libraries\n",
        "import os  \n",
        "import numpy as np\n",
        "import pandas as pd\n",
        "import matplotlib.pyplot as plt\n",
        "from sklearn.ensemble import RandomForestRegressor\n",
        "from sklearn import preprocessing\n",
        "%matplotlib inline"
      ],
      "execution_count": 1,
      "outputs": []
    },
    {
      "cell_type": "code",
      "metadata": {
        "id": "7xxOa8foJZew",
        "colab_type": "code",
        "colab": {
          "base_uri": "https://localhost:8080/",
          "height": 204
        },
        "outputId": "7d90db67-920e-4498-d3d0-4afef03d010d"
      },
      "source": [
        "# Loading the dataset in python with the name df and displaying first 5 rows: \n",
        "df=pd.read_csv(\"/content/drive/My Drive/Colab Notebooks/winequalityN.csv\", sep = ',')\n",
        "df.head()"
      ],
      "execution_count": 6,
      "outputs": [
        {
          "output_type": "execute_result",
          "data": {
            "text/html": [
              "<div>\n",
              "<style scoped>\n",
              "    .dataframe tbody tr th:only-of-type {\n",
              "        vertical-align: middle;\n",
              "    }\n",
              "\n",
              "    .dataframe tbody tr th {\n",
              "        vertical-align: top;\n",
              "    }\n",
              "\n",
              "    .dataframe thead th {\n",
              "        text-align: right;\n",
              "    }\n",
              "</style>\n",
              "<table border=\"1\" class=\"dataframe\">\n",
              "  <thead>\n",
              "    <tr style=\"text-align: right;\">\n",
              "      <th></th>\n",
              "      <th>type</th>\n",
              "      <th>fixed acidity</th>\n",
              "      <th>volatile acidity</th>\n",
              "      <th>citric acid</th>\n",
              "      <th>residual sugar</th>\n",
              "      <th>chlorides</th>\n",
              "      <th>free sulfur dioxide</th>\n",
              "      <th>total sulfur dioxide</th>\n",
              "      <th>density</th>\n",
              "      <th>pH</th>\n",
              "      <th>sulphates</th>\n",
              "      <th>alcohol</th>\n",
              "      <th>quality</th>\n",
              "    </tr>\n",
              "  </thead>\n",
              "  <tbody>\n",
              "    <tr>\n",
              "      <th>0</th>\n",
              "      <td>white</td>\n",
              "      <td>7.0</td>\n",
              "      <td>0.27</td>\n",
              "      <td>0.36</td>\n",
              "      <td>20.7</td>\n",
              "      <td>0.045</td>\n",
              "      <td>45.0</td>\n",
              "      <td>170.0</td>\n",
              "      <td>1.0010</td>\n",
              "      <td>3.00</td>\n",
              "      <td>0.45</td>\n",
              "      <td>8.8</td>\n",
              "      <td>6</td>\n",
              "    </tr>\n",
              "    <tr>\n",
              "      <th>1</th>\n",
              "      <td>white</td>\n",
              "      <td>6.3</td>\n",
              "      <td>0.30</td>\n",
              "      <td>0.34</td>\n",
              "      <td>1.6</td>\n",
              "      <td>0.049</td>\n",
              "      <td>14.0</td>\n",
              "      <td>132.0</td>\n",
              "      <td>0.9940</td>\n",
              "      <td>3.30</td>\n",
              "      <td>0.49</td>\n",
              "      <td>9.5</td>\n",
              "      <td>6</td>\n",
              "    </tr>\n",
              "    <tr>\n",
              "      <th>2</th>\n",
              "      <td>white</td>\n",
              "      <td>8.1</td>\n",
              "      <td>0.28</td>\n",
              "      <td>0.40</td>\n",
              "      <td>6.9</td>\n",
              "      <td>0.050</td>\n",
              "      <td>30.0</td>\n",
              "      <td>97.0</td>\n",
              "      <td>0.9951</td>\n",
              "      <td>3.26</td>\n",
              "      <td>0.44</td>\n",
              "      <td>10.1</td>\n",
              "      <td>6</td>\n",
              "    </tr>\n",
              "    <tr>\n",
              "      <th>3</th>\n",
              "      <td>white</td>\n",
              "      <td>7.2</td>\n",
              "      <td>0.23</td>\n",
              "      <td>0.32</td>\n",
              "      <td>8.5</td>\n",
              "      <td>0.058</td>\n",
              "      <td>47.0</td>\n",
              "      <td>186.0</td>\n",
              "      <td>0.9956</td>\n",
              "      <td>3.19</td>\n",
              "      <td>0.40</td>\n",
              "      <td>9.9</td>\n",
              "      <td>6</td>\n",
              "    </tr>\n",
              "    <tr>\n",
              "      <th>4</th>\n",
              "      <td>white</td>\n",
              "      <td>7.2</td>\n",
              "      <td>0.23</td>\n",
              "      <td>0.32</td>\n",
              "      <td>8.5</td>\n",
              "      <td>0.058</td>\n",
              "      <td>47.0</td>\n",
              "      <td>186.0</td>\n",
              "      <td>0.9956</td>\n",
              "      <td>3.19</td>\n",
              "      <td>0.40</td>\n",
              "      <td>9.9</td>\n",
              "      <td>6</td>\n",
              "    </tr>\n",
              "  </tbody>\n",
              "</table>\n",
              "</div>"
            ],
            "text/plain": [
              "    type  fixed acidity  volatile acidity  ...  sulphates  alcohol  quality\n",
              "0  white            7.0              0.27  ...       0.45      8.8        6\n",
              "1  white            6.3              0.30  ...       0.49      9.5        6\n",
              "2  white            8.1              0.28  ...       0.44     10.1        6\n",
              "3  white            7.2              0.23  ...       0.40      9.9        6\n",
              "4  white            7.2              0.23  ...       0.40      9.9        6\n",
              "\n",
              "[5 rows x 13 columns]"
            ]
          },
          "metadata": {
            "tags": []
          },
          "execution_count": 6
        }
      ]
    },
    {
      "cell_type": "markdown",
      "metadata": {
        "id": "xbKOiczpKFH5",
        "colab_type": "text"
      },
      "source": [
        "# Data cleaning/wrangling: \n",
        "\n",
        "Here we take the make the dataset usable for our work. \n",
        "This involves taking care of missing values, making sure all the object types are correct etc.\n"
      ]
    },
    {
      "cell_type": "code",
      "metadata": {
        "id": "-Az9WHTAJv3e",
        "colab_type": "code",
        "colab": {
          "base_uri": "https://localhost:8080/",
          "height": 357
        },
        "outputId": "9b572c04-8239-429f-abf3-adca5eb29f2f"
      },
      "source": [
        "\n",
        "#Getting an overall picture of the data types and shape of our dataset :\n",
        "df.info()"
      ],
      "execution_count": 7,
      "outputs": [
        {
          "output_type": "stream",
          "text": [
            "<class 'pandas.core.frame.DataFrame'>\n",
            "RangeIndex: 6497 entries, 0 to 6496\n",
            "Data columns (total 13 columns):\n",
            " #   Column                Non-Null Count  Dtype  \n",
            "---  ------                --------------  -----  \n",
            " 0   type                  6497 non-null   object \n",
            " 1   fixed acidity         6487 non-null   float64\n",
            " 2   volatile acidity      6489 non-null   float64\n",
            " 3   citric acid           6494 non-null   float64\n",
            " 4   residual sugar        6495 non-null   float64\n",
            " 5   chlorides             6495 non-null   float64\n",
            " 6   free sulfur dioxide   6497 non-null   float64\n",
            " 7   total sulfur dioxide  6497 non-null   float64\n",
            " 8   density               6497 non-null   float64\n",
            " 9   pH                    6488 non-null   float64\n",
            " 10  sulphates             6493 non-null   float64\n",
            " 11  alcohol               6497 non-null   float64\n",
            " 12  quality               6497 non-null   int64  \n",
            "dtypes: float64(11), int64(1), object(1)\n",
            "memory usage: 660.0+ KB\n"
          ],
          "name": "stdout"
        }
      ]
    },
    {
      "cell_type": "code",
      "metadata": {
        "id": "PnLcHMuBJ_BF",
        "colab_type": "code",
        "colab": {
          "base_uri": "https://localhost:8080/",
          "height": 255
        },
        "outputId": "b2532c42-4026-4357-ed5c-e44d921026e3"
      },
      "source": [
        "# Taking sum of all missing values in each column:\n",
        "df.isna().sum()"
      ],
      "execution_count": 8,
      "outputs": [
        {
          "output_type": "execute_result",
          "data": {
            "text/plain": [
              "type                     0\n",
              "fixed acidity           10\n",
              "volatile acidity         8\n",
              "citric acid              3\n",
              "residual sugar           2\n",
              "chlorides                2\n",
              "free sulfur dioxide      0\n",
              "total sulfur dioxide     0\n",
              "density                  0\n",
              "pH                       9\n",
              "sulphates                4\n",
              "alcohol                  0\n",
              "quality                  0\n",
              "dtype: int64"
            ]
          },
          "metadata": {
            "tags": []
          },
          "execution_count": 8
        }
      ]
    },
    {
      "cell_type": "markdown",
      "metadata": {
        "id": "FkWQumIsKM4I",
        "colab_type": "text"
      },
      "source": [
        "Above, we can see that there are 12 columns and 1599 observations/rows. All the data types are correctly put however, we can change quality into a float object for regression."
      ]
    },
    {
      "cell_type": "markdown",
      "metadata": {
        "id": "P_hK0n0JKV4N",
        "colab_type": "text"
      },
      "source": [
        "# Handling missing variables:\n",
        "\n",
        "There are multiple ways of handling missing variables from removing all the columns to complex prediction methods for the missing variables. However, we will simply assume them to be the mean of the entire column. This allows us to retain the rest of the information of the observation with the missing data while making a reasonable assumption for the missing value."
      ]
    },
    {
      "cell_type": "code",
      "metadata": {
        "id": "7I61lBEXKYkg",
        "colab_type": "code",
        "colab": {}
      },
      "source": [
        "df=df.fillna(df.mean())"
      ],
      "execution_count": 9,
      "outputs": []
    },
    {
      "cell_type": "markdown",
      "metadata": {
        "id": "XuNjxakPKd9Q",
        "colab_type": "text"
      },
      "source": [
        "We will change the object type whenever depending on the model we are going to use and we will do it in our modelling section. Hence we have completed our cleaning section of our project. Next we will do a exploratory data analysis to see which variables are useful and each of their relationships etc. We will be using matplotlib as well as seaborn to conduct our EDA."
      ]
    },
    {
      "cell_type": "markdown",
      "metadata": {
        "id": "aH8YdRx4Kn3S",
        "colab_type": "text"
      },
      "source": [
        "# Exploratory Data Analysis\n",
        "\n",
        "\n",
        "There are only 12 variables hence conducting an EDA is not that hard and we will be able to look at most variables in depth. First, we will take a look at the summary statistics of the dataset.\n",
        "\n",
        "\n"
      ]
    },
    {
      "cell_type": "code",
      "metadata": {
        "id": "PHcaQko2KnN0",
        "colab_type": "code",
        "colab": {
          "base_uri": "https://localhost:8080/",
          "height": 297
        },
        "outputId": "a1879401-f5d3-4cd3-b721-fbb68f19bffc"
      },
      "source": [
        "df.describe()"
      ],
      "execution_count": 10,
      "outputs": [
        {
          "output_type": "execute_result",
          "data": {
            "text/html": [
              "<div>\n",
              "<style scoped>\n",
              "    .dataframe tbody tr th:only-of-type {\n",
              "        vertical-align: middle;\n",
              "    }\n",
              "\n",
              "    .dataframe tbody tr th {\n",
              "        vertical-align: top;\n",
              "    }\n",
              "\n",
              "    .dataframe thead th {\n",
              "        text-align: right;\n",
              "    }\n",
              "</style>\n",
              "<table border=\"1\" class=\"dataframe\">\n",
              "  <thead>\n",
              "    <tr style=\"text-align: right;\">\n",
              "      <th></th>\n",
              "      <th>fixed acidity</th>\n",
              "      <th>volatile acidity</th>\n",
              "      <th>citric acid</th>\n",
              "      <th>residual sugar</th>\n",
              "      <th>chlorides</th>\n",
              "      <th>free sulfur dioxide</th>\n",
              "      <th>total sulfur dioxide</th>\n",
              "      <th>density</th>\n",
              "      <th>pH</th>\n",
              "      <th>sulphates</th>\n",
              "      <th>alcohol</th>\n",
              "      <th>quality</th>\n",
              "    </tr>\n",
              "  </thead>\n",
              "  <tbody>\n",
              "    <tr>\n",
              "      <th>count</th>\n",
              "      <td>6497.000000</td>\n",
              "      <td>6497.000000</td>\n",
              "      <td>6497.000000</td>\n",
              "      <td>6497.000000</td>\n",
              "      <td>6497.000000</td>\n",
              "      <td>6497.000000</td>\n",
              "      <td>6497.000000</td>\n",
              "      <td>6497.000000</td>\n",
              "      <td>6497.000000</td>\n",
              "      <td>6497.000000</td>\n",
              "      <td>6497.000000</td>\n",
              "      <td>6497.000000</td>\n",
              "    </tr>\n",
              "    <tr>\n",
              "      <th>mean</th>\n",
              "      <td>7.216579</td>\n",
              "      <td>0.339691</td>\n",
              "      <td>0.318722</td>\n",
              "      <td>5.444326</td>\n",
              "      <td>0.056042</td>\n",
              "      <td>30.525319</td>\n",
              "      <td>115.744574</td>\n",
              "      <td>0.994697</td>\n",
              "      <td>3.218395</td>\n",
              "      <td>0.531215</td>\n",
              "      <td>10.491801</td>\n",
              "      <td>5.818378</td>\n",
              "    </tr>\n",
              "    <tr>\n",
              "      <th>std</th>\n",
              "      <td>1.295751</td>\n",
              "      <td>0.164548</td>\n",
              "      <td>0.145231</td>\n",
              "      <td>4.757392</td>\n",
              "      <td>0.035031</td>\n",
              "      <td>17.749400</td>\n",
              "      <td>56.521855</td>\n",
              "      <td>0.002999</td>\n",
              "      <td>0.160637</td>\n",
              "      <td>0.148768</td>\n",
              "      <td>1.192712</td>\n",
              "      <td>0.873255</td>\n",
              "    </tr>\n",
              "    <tr>\n",
              "      <th>min</th>\n",
              "      <td>3.800000</td>\n",
              "      <td>0.080000</td>\n",
              "      <td>0.000000</td>\n",
              "      <td>0.600000</td>\n",
              "      <td>0.009000</td>\n",
              "      <td>1.000000</td>\n",
              "      <td>6.000000</td>\n",
              "      <td>0.987110</td>\n",
              "      <td>2.720000</td>\n",
              "      <td>0.220000</td>\n",
              "      <td>8.000000</td>\n",
              "      <td>3.000000</td>\n",
              "    </tr>\n",
              "    <tr>\n",
              "      <th>25%</th>\n",
              "      <td>6.400000</td>\n",
              "      <td>0.230000</td>\n",
              "      <td>0.250000</td>\n",
              "      <td>1.800000</td>\n",
              "      <td>0.038000</td>\n",
              "      <td>17.000000</td>\n",
              "      <td>77.000000</td>\n",
              "      <td>0.992340</td>\n",
              "      <td>3.110000</td>\n",
              "      <td>0.430000</td>\n",
              "      <td>9.500000</td>\n",
              "      <td>5.000000</td>\n",
              "    </tr>\n",
              "    <tr>\n",
              "      <th>50%</th>\n",
              "      <td>7.000000</td>\n",
              "      <td>0.290000</td>\n",
              "      <td>0.310000</td>\n",
              "      <td>3.000000</td>\n",
              "      <td>0.047000</td>\n",
              "      <td>29.000000</td>\n",
              "      <td>118.000000</td>\n",
              "      <td>0.994890</td>\n",
              "      <td>3.210000</td>\n",
              "      <td>0.510000</td>\n",
              "      <td>10.300000</td>\n",
              "      <td>6.000000</td>\n",
              "    </tr>\n",
              "    <tr>\n",
              "      <th>75%</th>\n",
              "      <td>7.700000</td>\n",
              "      <td>0.400000</td>\n",
              "      <td>0.390000</td>\n",
              "      <td>8.100000</td>\n",
              "      <td>0.065000</td>\n",
              "      <td>41.000000</td>\n",
              "      <td>156.000000</td>\n",
              "      <td>0.996990</td>\n",
              "      <td>3.320000</td>\n",
              "      <td>0.600000</td>\n",
              "      <td>11.300000</td>\n",
              "      <td>6.000000</td>\n",
              "    </tr>\n",
              "    <tr>\n",
              "      <th>max</th>\n",
              "      <td>15.900000</td>\n",
              "      <td>1.580000</td>\n",
              "      <td>1.660000</td>\n",
              "      <td>65.800000</td>\n",
              "      <td>0.611000</td>\n",
              "      <td>289.000000</td>\n",
              "      <td>440.000000</td>\n",
              "      <td>1.038980</td>\n",
              "      <td>4.010000</td>\n",
              "      <td>2.000000</td>\n",
              "      <td>14.900000</td>\n",
              "      <td>9.000000</td>\n",
              "    </tr>\n",
              "  </tbody>\n",
              "</table>\n",
              "</div>"
            ],
            "text/plain": [
              "       fixed acidity  volatile acidity  ...      alcohol      quality\n",
              "count    6497.000000       6497.000000  ...  6497.000000  6497.000000\n",
              "mean        7.216579          0.339691  ...    10.491801     5.818378\n",
              "std         1.295751          0.164548  ...     1.192712     0.873255\n",
              "min         3.800000          0.080000  ...     8.000000     3.000000\n",
              "25%         6.400000          0.230000  ...     9.500000     5.000000\n",
              "50%         7.000000          0.290000  ...    10.300000     6.000000\n",
              "75%         7.700000          0.400000  ...    11.300000     6.000000\n",
              "max        15.900000          1.580000  ...    14.900000     9.000000\n",
              "\n",
              "[8 rows x 12 columns]"
            ]
          },
          "metadata": {
            "tags": []
          },
          "execution_count": 10
        }
      ]
    },
    {
      "cell_type": "markdown",
      "metadata": {
        "id": "05PKpyIMK6bN",
        "colab_type": "text"
      },
      "source": [
        "One thing that we can take note of is that the different variables are on different scales, and hence we might be better of rescaling all of the data which we will explore in the next section of preprocessing.\n",
        "\n",
        "Next we will take a look at the correlation between all the variables by looking at the scatter plots between them."
      ]
    },
    {
      "cell_type": "code",
      "metadata": {
        "id": "XlvYuq2FLCS2",
        "colab_type": "code",
        "colab": {
          "base_uri": "https://localhost:8080/",
          "height": 617
        },
        "outputId": "ad62cada-8dd4-4633-e02e-5e179460fe65"
      },
      "source": [
        "import seaborn as sns\n",
        "sns.set(rc={'figure.figsize':(10,8)})\n",
        "corr = df.corr()\n",
        "sns.heatmap(corr, \n",
        "            xticklabels=corr.columns.values,\n",
        "            yticklabels=corr.columns.values)\n",
        "plt.show()"
      ],
      "execution_count": 11,
      "outputs": [
        {
          "output_type": "stream",
          "text": [
            "/usr/local/lib/python3.6/dist-packages/statsmodels/tools/_testing.py:19: FutureWarning: pandas.util.testing is deprecated. Use the functions in the public API at pandas.testing instead.\n",
            "  import pandas.util.testing as tm\n"
          ],
          "name": "stderr"
        },
        {
          "output_type": "display_data",
          "data": {
            "image/png": "[encoded data removed]",
            "text/plain": [
              "<Figure size 720x576 with 2 Axes>"
            ]
          },
          "metadata": {
            "tags": []
          }
        }
      ]
    },
    {
      "cell_type": "markdown",
      "metadata": {
        "id": "UwWeotCuLFXJ",
        "colab_type": "text"
      },
      "source": [
        "One point we can note is the fact that there is a good amount of multicollinearity, which could be potentially taken care of by using methods such as Ridge Regression or lasso regression.\n",
        "\n",
        "Next we will take a look at whether the color of the wine has a role in its quality. For that we will use boxplots."
      ]
    },
    {
      "cell_type": "code",
      "metadata": {
        "id": "Pfd6pJa8Ws2u",
        "colab_type": "code",
        "colab": {
          "base_uri": "https://localhost:8080/",
          "height": 502
        },
        "outputId": "9a019c5d-b107-4c62-ac6a-7ca7eee2501a"
      },
      "source": [
        "sns.boxplot(x=\"type\",y=\"quality\",data=df, palette=\"dark\")\n",
        "plt.show()"
      ],
      "execution_count": 12,
      "outputs": [
        {
          "output_type": "display_data",
          "data": {
            "image/png": "[encoded data removed]",
            "text/plain": [
              "<Figure size 720x576 with 1 Axes>"
            ]
          },
          "metadata": {
            "tags": []
          }
        }
      ]
    },
    {
      "cell_type": "markdown",
      "metadata": {
        "id": "9MsX1XsSWzJs",
        "colab_type": "text"
      },
      "source": [
        "Here, we can see that there is no significant difference between the ratings of white and red wine and hence in the next section we can remove this column as it provides no additional information for predicting the quality of wine.\n",
        "\n",
        "And finally we will take a look at the plots of the response variables and the various explanotory variables in our next part."
      ]
    },
    {
      "cell_type": "code",
      "metadata": {
        "id": "r8lsciUpLSTn",
        "colab_type": "code",
        "colab": {
          "base_uri": "https://localhost:8080/",
          "height": 485
        },
        "outputId": "07b5519f-0817-453b-e2a5-7b430cb79acf"
      },
      "source": [
        "g = sns.PairGrid(df, y_vars=[\"quality\"], x_vars=list(df)[1:-6],palette=\"GnBu_d\")\n",
        "g.map(sns.regplot)\n",
        "g.set(ylim=(-1, 11), yticks=[0, 5, 10]);\n",
        "g.add_legend()\n",
        "plt.show()\n",
        "\n",
        "a = sns.PairGrid(df, y_vars=[\"quality\"], x_vars=list(df)[-6:-1],palette=\"GnBu_d\")\n",
        "a.map(sns.regplot)\n",
        "a.set(ylim=(-1, 11), yticks=[0, 5, 10]);\n",
        "a.add_legend()\n",
        "plt.show()"
      ],
      "execution_count": 13,
      "outputs": [
        {
          "output_type": "stream",
          "text": [
            "/usr/local/lib/python3.6/dist-packages/seaborn/axisgrid.py:100: UserWarning: The handle <matplotlib.patches.Patch object at 0x7fa766e0dac8> has a label of '_nolegend_' which cannot be automatically added to the legend.\n",
            "  figlegend = self.fig.legend(handles, labels, **kwargs)\n"
          ],
          "name": "stderr"
        },
        {
          "output_type": "display_data",
          "data": {
            "image/png": "[encoded data removed]",
            "text/plain": [
              "<Figure size 1088.8x180 with 6 Axes>"
            ]
          },
          "metadata": {
            "tags": []
          }
        },
        {
          "output_type": "stream",
          "text": [
            "/usr/local/lib/python3.6/dist-packages/seaborn/axisgrid.py:100: UserWarning: The handle <matplotlib.patches.Patch object at 0x7fa7643f1518> has a label of '_nolegend_' which cannot be automatically added to the legend.\n",
            "  figlegend = self.fig.legend(handles, labels, **kwargs)\n"
          ],
          "name": "stderr"
        },
        {
          "output_type": "display_data",
          "data": {
            "image/png": "[encoded data removed]",
            "text/plain": [
              "<Figure size 908.8x180 with 5 Axes>"
            ]
          },
          "metadata": {
            "tags": []
          }
        }
      ]
    },
    {
      "cell_type": "markdown",
      "metadata": {
        "id": "75Rt4Mz8LeSl",
        "colab_type": "text"
      },
      "source": [
        "One major point to note from the graph above is the categorical/ordinal nature of the response variable. This could mean that regression might not be the most optimal method for predicting values.Also note that even though the type of wine doesnt seem to have any notable impact on our response variable, it does seem to have a impact on the various independant variables.\n",
        "\n",
        "With this we conclude with our EDA section and move to our next portion that is data preprocessing using sk-learn."
      ]
    },
    {
      "cell_type": "markdown",
      "metadata": {
        "id": "lu7uopULLqTr",
        "colab_type": "text"
      },
      "source": [
        "# Data preprocessing\n",
        "\n"
      ]
    },
    {
      "cell_type": "markdown",
      "metadata": {
        "id": "Mekv6UMAW7rd",
        "colab_type": "text"
      },
      "source": [
        "Here we will prepare for our data for the modelling. First, we will remove the 'type' column as has shown to have no influence on our quality value."
      ]
    },
    {
      "cell_type": "code",
      "metadata": {
        "id": "tVCWQmiVW8uZ",
        "colab_type": "code",
        "colab": {}
      },
      "source": [
        "df=df[df.columns.drop('type')]"
      ],
      "execution_count": 14,
      "outputs": []
    },
    {
      "cell_type": "markdown",
      "metadata": {
        "id": "1YCz1ontLya0",
        "colab_type": "text"
      },
      "source": [
        "One thing we could do is eliminate some more columns which are highly correlated with each other, however, since we will be using lasso as well as ridge regression we will not make any further adjustments.\n",
        "\n",
        "Next,we will normalize the independant variables. so as to reduce bias towards any particular variables. This is quite useful as the range of the variables are highly varied between the variables and name our independant variables x and target variable y. We will scale the values of all our independant variables to a range of 0-1. We will leave our target variable as is for convenience."
      ]
    },
    {
      "cell_type": "code",
      "metadata": {
        "id": "BiT53AgDL5Kf",
        "colab_type": "code",
        "colab": {}
      },
      "source": [
        "x=df[df.columns.drop(\"quality\")]\n",
        "normalized_x=preprocessing.minmax_scale(x)\n",
        "y=df[\"quality\"]"
      ],
      "execution_count": 15,
      "outputs": []
    },
    {
      "cell_type": "code",
      "metadata": {
        "id": "S8Gzz0TySYTL",
        "colab_type": "code",
        "colab": {
          "base_uri": "https://localhost:8080/",
          "height": 518
        },
        "outputId": "3c2df9f8-6a13-453f-af39-4b9d12eef4a2"
      },
      "source": [
        "classifier = RandomForestRegressor()\n",
        "classifier.fit(x,y)\n",
        "feature_names = x.columns\n",
        "importance_frame = pd.DataFrame()\n",
        "importance_frame['Features'] = x.columns\n",
        "importance_frame['Importance'] = classifier.feature_importances_\n",
        "importance_frame = importance_frame.sort_values(by=['Importance'], ascending=True)\n",
        "\n",
        "plt.barh([1,2,3,4,5,6,7,8,9,10,11], importance_frame['Importance'], align='center', alpha=0.5)\n",
        "plt.yticks([1,2,3,4,5,6,7,8,9,10,11], importance_frame['Features'])\n",
        "plt.xlabel('Importance')\n",
        "plt.title('Feature Importances')\n",
        "plt.show()"
      ],
      "execution_count": 16,
      "outputs": [
        {
          "output_type": "display_data",
          "data": {
            "image/png": "[encoded data removed]",
            "text/plain": [
              "<Figure size 720x576 with 1 Axes>"
            ]
          },
          "metadata": {
            "tags": []
          }
        }
      ]
    },
    {
      "cell_type": "markdown",
      "metadata": {
        "id": "e7-WgrlQSoUR",
        "colab_type": "text"
      },
      "source": [
        "Clearly, Alcohol is the most factor for quality of wine followed by Volatile Acidity Score. So the last top 3 most factor variable for quality wine is free sulfur dioxide variable"
      ]
    },
    {
      "cell_type": "markdown",
      "metadata": {
        "id": "sQPG7wyTL8DK",
        "colab_type": "text"
      },
      "source": [
        "And we have prepared our data as required, now, finally all we need to do is split the dataset into a training and testing dataset."
      ]
    },
    {
      "cell_type": "code",
      "metadata": {
        "id": "kokaDPLML_5B",
        "colab_type": "code",
        "colab": {}
      },
      "source": [
        "from sklearn.model_selection import train_test_split\n",
        "X_train, X_test, y_train, y_test = train_test_split(normalized_x, y, test_size=0.33, random_state=42)"
      ],
      "execution_count": 17,
      "outputs": []
    },
    {
      "cell_type": "markdown",
      "metadata": {
        "id": "TsMIWPfBMBLJ",
        "colab_type": "text"
      },
      "source": [
        "We have now divided the data into a test set as well as a training set and hence we have come to an end of this section. Next we will move on to modelling the problem and testing."
      ]
    },
    {
      "cell_type": "markdown",
      "metadata": {
        "id": "HGlMIPWRMlFi",
        "colab_type": "text"
      },
      "source": [
        "# Modelling and testing for regression:\n",
        "\n",
        "First we will start with linear regression and will be using Lasso, Ridge as well as ordinary linear regression for our data and compare the results and get an inference. We will be using the scikit Learn library for our regression as well as testing."
      ]
    },
    {
      "cell_type": "markdown",
      "metadata": {
        "id": "34SY-POyMtO5",
        "colab_type": "text"
      },
      "source": [
        "# Multiple linear regression with OLS(ordinary least squares):\n",
        "\n",
        "Firstly we will do basic linear regression without any penalty on complexity."
      ]
    },
    {
      "cell_type": "code",
      "metadata": {
        "id": "raPgSQq2Mw7a",
        "colab_type": "code",
        "colab": {
          "base_uri": "https://localhost:8080/",
          "height": 34
        },
        "outputId": "43276518-a9bb-4bbd-9247-1047392fb53a"
      },
      "source": [
        "from sklearn.linear_model import LinearRegression\n",
        "clf= LinearRegression().fit(X_train,y_train)\n",
        "clf.score(X_train,y_train)"
      ],
      "execution_count": 18,
      "outputs": [
        {
          "output_type": "execute_result",
          "data": {
            "text/plain": [
              "0.2852550071222292"
            ]
          },
          "metadata": {
            "tags": []
          },
          "execution_count": 18
        }
      ]
    },
    {
      "cell_type": "markdown",
      "metadata": {
        "id": "vD-eFVunM1yl",
        "colab_type": "text"
      },
      "source": [
        "The score above gives us the R^2 value for our dataset which simply means the amount of variability that is explained by our model. Note that higher could mean better, but often times this could be an indication of over fitting. We will take a look at the root mean square error of our model on the test set to have a better idea of the predicting power of the model."
      ]
    },
    {
      "cell_type": "code",
      "metadata": {
        "id": "e__bkOQNQXOK",
        "colab_type": "code",
        "colab": {
          "base_uri": "https://localhost:8080/",
          "height": 51
        },
        "outputId": "2d4b8421-2928-416c-b521-9d0c5c480bbe"
      },
      "source": [
        "from sklearn.metrics import mean_squared_error\n",
        "a=clf.predict(X_train)\n",
        "train_rmse= (mean_squared_error(a,y_train)) ** 0.5\n",
        "print(train_rmse)\n",
        "b=clf.predict(X_test)\n",
        "test_rmse= (mean_squared_error(b,y_test)) ** 0.5\n",
        "test_rmse"
      ],
      "execution_count": 19,
      "outputs": [
        {
          "output_type": "stream",
          "text": [
            "0.7449819789418428\n"
          ],
          "name": "stdout"
        },
        {
          "output_type": "execute_result",
          "data": {
            "text/plain": [
              "0.7141299082752784"
            ]
          },
          "metadata": {
            "tags": []
          },
          "execution_count": 19
        }
      ]
    },
    {
      "cell_type": "markdown",
      "metadata": {
        "id": "GFHxkK0NQYyV",
        "colab_type": "text"
      },
      "source": [
        "We got a RMSE value of 0.6513, which tells about how accurate our values are. Again, the RMSE value is not an absolute value of and needs comparision to truly know how well our model performs, however, considering that our models output ranges from 0-10, an approx. average error of 0.64 is a respectable value.\n",
        "\n",
        "One important thing to note is that the RMSE of the test set is smaller than that of the training set which is a good sign as it indicates that overfitting is unlikely which means that lasso regression as well as ridge regression will not necessarily give us any better answers.\n",
        "\n",
        "Another small observation I had made was that normalizing the data did not give any substantial Reduction in RMSE."
      ]
    },
    {
      "cell_type": "markdown",
      "metadata": {
        "id": "Uy8oN1TtQhWt",
        "colab_type": "text"
      },
      "source": [
        "# Multiple linear regression with Ridge regression:\n",
        "\n",
        "Ridge regression based on L2 regularisation is a regression method that places a penalty on complexity of our model. What it essentially does is in addition to regular cost function of OLS, Ridge regression places a penalty on the size of the coefficients. This reduces the complexity by inducing a bias resulting in a lower variance. Note that we use RidgeCV(cross validation) for finding an optimal alpha which is the one hyperparameter of our model."
      ]
    },
    {
      "cell_type": "code",
      "metadata": {
        "id": "If3IImLNQpbG",
        "colab_type": "code",
        "colab": {
          "base_uri": "https://localhost:8080/",
          "height": 68
        },
        "outputId": "8741058f-dd20-4b21-8872-2fa39e40d7b3"
      },
      "source": [
        "from sklearn.linear_model import RidgeCV\n",
        "alpha= np.arange(0.01,10,0.1).tolist()\n",
        "clf = RidgeCV(alphas=alpha).fit(X_train, y_train)\n",
        "score=clf.score(X_train, y_train)\n",
        "print(\"R^2 =\", score)\n",
        "a=clf.predict(X_train)\n",
        "train_rmse= (mean_squared_error(a,y_train)) ** 0.5\n",
        "print(\"train_rmse = \", train_rmse)\n",
        "b=clf.predict(X_test)\n",
        "test_rmse= (mean_squared_error(b,y_test)) ** 0.5\n",
        "print(\"test_rmse = \", test_rmse)"
      ],
      "execution_count": 20,
      "outputs": [
        {
          "output_type": "stream",
          "text": [
            "R^2 = 0.2851950069950777\n",
            "train_rmse =  0.745013247489275\n",
            "test_rmse =  0.7140757549369448\n"
          ],
          "name": "stdout"
        }
      ]
    },
    {
      "cell_type": "markdown",
      "metadata": {
        "id": "lyxyHlIYQsQ4",
        "colab_type": "text"
      },
      "source": [
        "We can see that the values are exactly the same as Ridge regression converges towards a penalty of 0 for complexity and mimics regular linear regression. Next we can take a look at lasso regression in the same manner."
      ]
    },
    {
      "cell_type": "markdown",
      "metadata": {
        "id": "z882APlsQuIz",
        "colab_type": "text"
      },
      "source": [
        "# **Multiple linear regression with Lasso regression:**\n",
        "Lasso regression based on L1 regularisation is a regression method that places a penalty on the complexity not just by reducing the coefficient size but by reducing it to zero and hence effectively acting as a variables selector. This method is especially helpful if there are a large number of independant variables and we need to filter out some. However, again, since the model complexity is not high the prediction is not going to be any better than linear regression. Similar to Ridge regression, alpha is the hyperparameter."
      ]
    },
    {
      "cell_type": "code",
      "metadata": {
        "id": "fXbxrShjQ0Rr",
        "colab_type": "code",
        "colab": {
          "base_uri": "https://localhost:8080/",
          "height": 68
        },
        "outputId": "aea8f714-9701-40e9-cd80-444aed2a441e"
      },
      "source": [
        "from sklearn.linear_model import LassoCV\n",
        "alpha= np.arange(0.01,10,0.1).tolist()\n",
        "clf = LassoCV(alphas=alpha).fit(X_train, y_train)\n",
        "score=clf.score(X_train, y_train)\n",
        "print(\"R^2 =\", score)\n",
        "a=clf.predict(X_train)\n",
        "train_rmse= (mean_squared_error(a,y_train)) ** 0.5\n",
        "print(\"train_rmse = \", train_rmse)\n",
        "b=clf.predict(X_test)\n",
        "test_rmse= (mean_squared_error(b,y_test)) ** 0.5\n",
        "print(\"test_rmse = \", test_rmse)"
      ],
      "execution_count": 28,
      "outputs": [
        {
          "output_type": "stream",
          "text": [
            "R^2 = 0.23422232020682077\n",
            "train_rmse =  0.7711192740448021\n",
            "test_rmse =  0.7372391599844503\n"
          ],
          "name": "stdout"
        }
      ]
    },
    {
      "cell_type": "markdown",
      "metadata": {
        "id": "XFel1vCpQ3Ms",
        "colab_type": "text"
      },
      "source": [
        "We can see that we have got substantially worse results here as some of the coefficients values have been reduced to zero and resulting in less accuracy.\n",
        "\n",
        "With this we come to an end of the regression section and we have found regular linear regression to be the best model out of the three. This can indicate that more complex models do not necessarily mean better models and models should be selected based on our knowledge.\n"
      ]
    },
    {
      "cell_type": "markdown",
      "metadata": {
        "id": "TcOAhp4MQ76z",
        "colab_type": "text"
      },
      "source": [
        "# **Modelling and testing for classification:**\n",
        "We will be doing quite a few models for classification as well as a basic understanding of why the accuracy and predictions are the way they are for the various methods."
      ]
    },
    {
      "cell_type": "markdown",
      "metadata": {
        "id": "IFAiP5QDQ_fx",
        "colab_type": "text"
      },
      "source": [
        "# Classification with K-Nearest Neighbours:\n",
        "This is a fairly simple straightforward model which classifies each outcome based on its k nearest values. We will be choosing k =80( which is the sqrt of n), however, further research on optimal values can give us better values."
      ]
    },
    {
      "cell_type": "code",
      "metadata": {
        "id": "TO4z2tLdREcC",
        "colab_type": "code",
        "colab": {
          "base_uri": "https://localhost:8080/",
          "height": 34
        },
        "outputId": "4bb455db-c221-4592-d29a-520e70b48380"
      },
      "source": [
        "from sklearn.neighbors import KNeighborsClassifier\n",
        "from sklearn import metrics\n",
        "knn=KNeighborsClassifier(n_neighbors=80)\n",
        "knn.fit(X_train,y_train)\n",
        "g=knn.predict(X_test)\n",
        "metrics.accuracy_score(y_test,g)\n",
        "metrics.f1_score(y_test,g,average=\"micro\")"
      ],
      "execution_count": 29,
      "outputs": [
        {
          "output_type": "execute_result",
          "data": {
            "text/plain": [
              "0.5445221445221445"
            ]
          },
          "metadata": {
            "tags": []
          },
          "execution_count": 29
        }
      ]
    },
    {
      "cell_type": "markdown",
      "metadata": {
        "id": "zdunGWFqRDvP",
        "colab_type": "text"
      },
      "source": [
        "We have formed the model and fitted it and got its F1-score which is a metric that combines precision as well as recall. And we have found it to be 0.532, which could be quite a bit better. We will be discussing possible reasons for the relatively low scores later."
      ]
    },
    {
      "cell_type": "markdown",
      "metadata": {
        "id": "zYcuK9RpRHmq",
        "colab_type": "text"
      },
      "source": [
        "# Classification with Support Vector Machines:\n",
        "This is quite an elegant method which is quite effective however, performs its best in binary classification without many outliers and hence may not be able to perform its best here. We use the RBF kernal here as it a generally well suited kernal."
      ]
    },
    {
      "cell_type": "code",
      "metadata": {
        "id": "A5kAE3iBRRS6",
        "colab_type": "code",
        "colab": {
          "base_uri": "https://localhost:8080/",
          "height": 34
        },
        "outputId": "b5fbbb3a-ba86-44b7-cf84-b5a0453d68ee"
      },
      "source": [
        "from sklearn import svm\n",
        "SV=svm.SVC(C=1,kernel='rbf')\n",
        "SV.fit(X_train,y_train)\n",
        "g=SV.predict(X_test)\n",
        "metrics.accuracy_score(y_test,g)\n",
        "metrics.f1_score(y_test,g,average=\"micro\")"
      ],
      "execution_count": 30,
      "outputs": [
        {
          "output_type": "execute_result",
          "data": {
            "text/plain": [
              "0.5599067599067599"
            ]
          },
          "metadata": {
            "tags": []
          },
          "execution_count": 30
        }
      ]
    },
    {
      "cell_type": "markdown",
      "metadata": {
        "id": "dHfAC4bwRW54",
        "colab_type": "text"
      },
      "source": [
        "The f1 score only shows marginal improvement."
      ]
    },
    {
      "cell_type": "markdown",
      "metadata": {
        "id": "WfyinYcoRXlJ",
        "colab_type": "text"
      },
      "source": [
        "# Classification with Naive Bayes:\n",
        "This is an extremely simple method that uses basic bayes theorem to get its outcome. A major advantage being its simplicity and efficieny. However, the model performs poorly when there is multicollinearity and works best with categorical values. We do not expect very high performance metrics for this particular method."
      ]
    },
    {
      "cell_type": "code",
      "metadata": {
        "id": "r4NB5GPQRa76",
        "colab_type": "code",
        "colab": {
          "base_uri": "https://localhost:8080/",
          "height": 34
        },
        "outputId": "5bdb9f81-ffbe-4e07-cd1e-fc0316a5ef05"
      },
      "source": [
        "from sklearn.naive_bayes import GaussianNB\n",
        "nb=GaussianNB()\n",
        "nb.fit(X_train,y_train)\n",
        "g=nb.predict(X_test)\n",
        "metrics.accuracy_score(y_test,g)\n",
        "metrics.f1_score(y_test,g,average=\"micro\")"
      ],
      "execution_count": 31,
      "outputs": [
        {
          "output_type": "execute_result",
          "data": {
            "text/plain": [
              "0.4428904428904429"
            ]
          },
          "metadata": {
            "tags": []
          },
          "execution_count": 31
        }
      ]
    },
    {
      "cell_type": "markdown",
      "metadata": {
        "id": "b5TSISUTRdBW",
        "colab_type": "text"
      },
      "source": [
        "As expected, the score is considerably worse than the above two."
      ]
    },
    {
      "cell_type": "markdown",
      "metadata": {
        "id": "cl_tI9xxRdnd",
        "colab_type": "text"
      },
      "source": [
        "# Classification with Logistic regression:\n",
        "Here, we will be using logistic regression to predict the classes. Note that logistic regression works best with binary values as logistics regression has two outcomes. However, it can be used to predict multiclass variables by modifying the model."
      ]
    },
    {
      "cell_type": "code",
      "metadata": {
        "id": "40nHexQdRhLE",
        "colab_type": "code",
        "colab": {
          "base_uri": "https://localhost:8080/",
          "height": 34
        },
        "outputId": "abff4a6d-e836-4596-f558-4f750c1eef47"
      },
      "source": [
        "from sklearn.linear_model import LogisticRegression\n",
        "f=LogisticRegression(max_iter=10000)\n",
        "f.fit(X_train,y_train)\n",
        "g=f.predict(X_test)\n",
        "metrics.accuracy_score(y_test,g)\n",
        "metrics.f1_score(y_test,g,average=\"micro\")"
      ],
      "execution_count": 32,
      "outputs": [
        {
          "output_type": "execute_result",
          "data": {
            "text/plain": [
              "0.5501165501165501"
            ]
          },
          "metadata": {
            "tags": []
          },
          "execution_count": 32
        }
      ]
    },
    {
      "cell_type": "markdown",
      "metadata": {
        "id": "VZIJ2uBoRjEe",
        "colab_type": "text"
      },
      "source": [
        "The model performs in line with the rest of the model."
      ]
    },
    {
      "cell_type": "markdown",
      "metadata": {
        "id": "D6ahFC2WRleh",
        "colab_type": "text"
      },
      "source": [
        "# Classification with Decision tree classifier :\n",
        "Decision tree classifiers is a highly intuitive model which performs admirably with a large number of independant variables."
      ]
    },
    {
      "cell_type": "code",
      "metadata": {
        "id": "T7v-bS7CRnj4",
        "colab_type": "code",
        "colab": {
          "base_uri": "https://localhost:8080/",
          "height": 51
        },
        "outputId": "a8bdb486-e154-4fa8-e2bc-662d25113ba9"
      },
      "source": [
        "from sklearn.tree import DecisionTreeClassifier\n",
        "f= DecisionTreeClassifier()\n",
        "f.fit(X_train,y_train)\n",
        "g=f.predict(X_test)\n",
        "print(metrics.accuracy_score(y_test,g))\n",
        "print(metrics.f1_score(y_test,g,average=\"micro\"))"
      ],
      "execution_count": 33,
      "outputs": [
        {
          "output_type": "stream",
          "text": [
            "0.5883449883449884\n",
            "0.5883449883449884\n"
          ],
          "name": "stdout"
        }
      ]
    },
    {
      "cell_type": "markdown",
      "metadata": {
        "id": "pC4fDbKvXb0o",
        "colab_type": "text"
      },
      "source": [
        "# Classification with RandomForest Classifier:\n",
        "This is an esemble model( of sorts) which essentially combines a variety of decision trees so as to form models which are less sensitive to outliers."
      ]
    },
    {
      "cell_type": "code",
      "metadata": {
        "id": "ebZ7fHgeXd1H",
        "colab_type": "code",
        "colab": {
          "base_uri": "https://localhost:8080/",
          "height": 34
        },
        "outputId": "1ad9869b-1322-41eb-cc03-6f9a845e3bca"
      },
      "source": [
        "from sklearn.ensemble import RandomForestClassifier\n",
        "f= RandomForestClassifier()\n",
        "f.fit(X_train, y_train)\n",
        "g=f.predict(X_test)\n",
        "print(metrics.accuracy_score(y_test,g))"
      ],
      "execution_count": 34,
      "outputs": [
        {
          "output_type": "stream",
          "text": [
            "0.6564102564102564\n"
          ],
          "name": "stdout"
        }
      ]
    },
    {
      "cell_type": "markdown",
      "metadata": {
        "id": "XJXeALViRztr",
        "colab_type": "text"
      },
      "source": [
        "This model performs the best compared to the rest of our models. One important point to note is that there is no best model for all situations. Just because RandomForest worked best for our problem does not mean it will work the best in every situation hence it is critical to have a basic theoritical understanding of all models we work with. These are few classification models. One of the reasons as to why our models perform poorly is due to the highly subjective nature of the dataset. We can also possibly improve these results by using different models or tweaking the hyperparameters of our current models. Next,we will classify the wine into \"bad wine\", \"good wine\" and \"excellent wine\"."
      ]
    },
    {
      "cell_type": "markdown",
      "metadata": {
        "id": "IL9PJ8AnSG6j",
        "colab_type": "text"
      },
      "source": [
        "# New criteria for classification:\n",
        "It has been shown that accurate predictions for a scale of 1-10 is fairly difficult to predict for our given models with high amount of accuracy. One way to make it easier is by reducing the number of outcomes or classes. We ensure these classes are still meaningful to the observer. We group the wines with a quality of 1-3 in \"bad wine\", 4-7 in \"good wine\" and 8-10 in excellent wine. We will start of making a new column in our dataset namely \"wine_qual\" for this new data."
      ]
    },
    {
      "cell_type": "code",
      "metadata": {
        "id": "-UGj_eiSSJoJ",
        "colab_type": "code",
        "colab": {
          "base_uri": "https://localhost:8080/",
          "height": 204
        },
        "outputId": "65ceeea4-836a-4754-edf7-cde27a15760b"
      },
      "source": [
        "def qual(a):\n",
        "  if 1<=a[\"quality\"]<=3 :\n",
        "    return \"bad wine\"\n",
        "  elif 4<=a[\"quality\"]<=7 :\n",
        "    return \"good wine\"\n",
        "  else :\n",
        "    return \"excellent wine\"\n",
        "df[\"wine_qual\"]=df.apply(qual,axis=1)\n",
        "df.head()"
      ],
      "execution_count": 35,
      "outputs": [
        {
          "output_type": "execute_result",
          "data": {
            "text/html": [
              "<div>\n",
              "<style scoped>\n",
              "    .dataframe tbody tr th:only-of-type {\n",
              "        vertical-align: middle;\n",
              "    }\n",
              "\n",
              "    .dataframe tbody tr th {\n",
              "        vertical-align: top;\n",
              "    }\n",
              "\n",
              "    .dataframe thead th {\n",
              "        text-align: right;\n",
              "    }\n",
              "</style>\n",
              "<table border=\"1\" class=\"dataframe\">\n",
              "  <thead>\n",
              "    <tr style=\"text-align: right;\">\n",
              "      <th></th>\n",
              "      <th>fixed acidity</th>\n",
              "      <th>volatile acidity</th>\n",
              "      <th>citric acid</th>\n",
              "      <th>residual sugar</th>\n",
              "      <th>chlorides</th>\n",
              "      <th>free sulfur dioxide</th>\n",
              "      <th>total sulfur dioxide</th>\n",
              "      <th>density</th>\n",
              "      <th>pH</th>\n",
              "      <th>sulphates</th>\n",
              "      <th>alcohol</th>\n",
              "      <th>quality</th>\n",
              "      <th>wine_qual</th>\n",
              "    </tr>\n",
              "  </thead>\n",
              "  <tbody>\n",
              "    <tr>\n",
              "      <th>0</th>\n",
              "      <td>7.0</td>\n",
              "      <td>0.27</td>\n",
              "      <td>0.36</td>\n",
              "      <td>20.7</td>\n",
              "      <td>0.045</td>\n",
              "      <td>45.0</td>\n",
              "      <td>170.0</td>\n",
              "      <td>1.0010</td>\n",
              "      <td>3.00</td>\n",
              "      <td>0.45</td>\n",
              "      <td>8.8</td>\n",
              "      <td>6</td>\n",
              "      <td>good wine</td>\n",
              "    </tr>\n",
              "    <tr>\n",
              "      <th>1</th>\n",
              "      <td>6.3</td>\n",
              "      <td>0.30</td>\n",
              "      <td>0.34</td>\n",
              "      <td>1.6</td>\n",
              "      <td>0.049</td>\n",
              "      <td>14.0</td>\n",
              "      <td>132.0</td>\n",
              "      <td>0.9940</td>\n",
              "      <td>3.30</td>\n",
              "      <td>0.49</td>\n",
              "      <td>9.5</td>\n",
              "      <td>6</td>\n",
              "      <td>good wine</td>\n",
              "    </tr>\n",
              "    <tr>\n",
              "      <th>2</th>\n",
              "      <td>8.1</td>\n",
              "      <td>0.28</td>\n",
              "      <td>0.40</td>\n",
              "      <td>6.9</td>\n",
              "      <td>0.050</td>\n",
              "      <td>30.0</td>\n",
              "      <td>97.0</td>\n",
              "      <td>0.9951</td>\n",
              "      <td>3.26</td>\n",
              "      <td>0.44</td>\n",
              "      <td>10.1</td>\n",
              "      <td>6</td>\n",
              "      <td>good wine</td>\n",
              "    </tr>\n",
              "    <tr>\n",
              "      <th>3</th>\n",
              "      <td>7.2</td>\n",
              "      <td>0.23</td>\n",
              "      <td>0.32</td>\n",
              "      <td>8.5</td>\n",
              "      <td>0.058</td>\n",
              "      <td>47.0</td>\n",
              "      <td>186.0</td>\n",
              "      <td>0.9956</td>\n",
              "      <td>3.19</td>\n",
              "      <td>0.40</td>\n",
              "      <td>9.9</td>\n",
              "      <td>6</td>\n",
              "      <td>good wine</td>\n",
              "    </tr>\n",
              "    <tr>\n",
              "      <th>4</th>\n",
              "      <td>7.2</td>\n",
              "      <td>0.23</td>\n",
              "      <td>0.32</td>\n",
              "      <td>8.5</td>\n",
              "      <td>0.058</td>\n",
              "      <td>47.0</td>\n",
              "      <td>186.0</td>\n",
              "      <td>0.9956</td>\n",
              "      <td>3.19</td>\n",
              "      <td>0.40</td>\n",
              "      <td>9.9</td>\n",
              "      <td>6</td>\n",
              "      <td>good wine</td>\n",
              "    </tr>\n",
              "  </tbody>\n",
              "</table>\n",
              "</div>"
            ],
            "text/plain": [
              "   fixed acidity  volatile acidity  citric acid  ...  alcohol  quality  wine_qual\n",
              "0            7.0              0.27         0.36  ...      8.8        6  good wine\n",
              "1            6.3              0.30         0.34  ...      9.5        6  good wine\n",
              "2            8.1              0.28         0.40  ...     10.1        6  good wine\n",
              "3            7.2              0.23         0.32  ...      9.9        6  good wine\n",
              "4            7.2              0.23         0.32  ...      9.9        6  good wine\n",
              "\n",
              "[5 rows x 13 columns]"
            ]
          },
          "metadata": {
            "tags": []
          },
          "execution_count": 35
        }
      ]
    },
    {
      "cell_type": "markdown",
      "metadata": {
        "id": "wgTmxnDxSRlj",
        "colab_type": "text"
      },
      "source": [
        "Now that we have got our desired dataframe we can now classify them using some of the algorithms used above."
      ]
    }
  ]
}